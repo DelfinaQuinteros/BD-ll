{
 "cells": [
  {
   "cell_type": "markdown",
   "id": "8b6d9ace",
   "metadata": {},
   "source": [
    "# TP1\n",
    "\n",
    "## Repositorios de información"
   ]
  },
  {
   "cell_type": "markdown",
   "id": "98c2e1a9",
   "metadata": {},
   "source": [
    "## Ejercicio 1\n",
    "\n",
    "- Descomprimir el archivo clima.tgz de la carpeta data\n",
    "- Convertir cada archivo a Dataframe y mostrarlo en pantalla"
   ]
  },
  {
   "cell_type": "code",
   "execution_count": null,
   "id": "2a31da56",
   "metadata": {},
   "outputs": [],
   "source": []
  },
  {
   "cell_type": "markdown",
   "id": "d8c68ce0",
   "metadata": {},
   "source": [
    "## Ejercicio 2\n",
    "\n",
    "- Obtener de la API de <a href=\"https://wikimedia.org/api/rest_v1/#/Pageviews%20data\">Wikimedia </a> la cantidad de visitas en este año a la página Albert Einstein por día.\n",
    "- Mostrar el Dataframe obtenido por pantalla"
   ]
  },
  {
   "cell_type": "code",
   "execution_count": null,
   "id": "83600ac6",
   "metadata": {},
   "outputs": [],
   "source": []
  },
  {
   "cell_type": "markdown",
   "id": "89c922c0",
   "metadata": {},
   "source": [
    "## Ejercicio 3\n",
    "\n",
    "- Crear una base de datos MySQL\n",
    "- Crear una tabla que contenga nombre, apellido y teléfono\n",
    "- Obtener de la base de datos la lista de personas ordenada por apellido de forma descendente\n",
    "- Mostrar el Dataframe resultante por pantalla"
   ]
  },
  {
   "cell_type": "code",
   "execution_count": null,
   "id": "369c4d29",
   "metadata": {},
   "outputs": [],
   "source": []
  },
  {
   "cell_type": "markdown",
   "id": "3076e5f2",
   "metadata": {},
   "source": [
    "## Ejercicio 4\n",
    "\n",
    "- Obtener de la API <a href=\"https://date.nager.at/swagger/index.html\">Nager.Date</a> las fiestas nacionales argentinas para el 2021\n",
    "- Mostrar el dataframe resultante por pantalla"
   ]
  },
  {
   "cell_type": "code",
   "execution_count": null,
   "id": "6488b350",
   "metadata": {},
   "outputs": [],
   "source": []
  },
  {
   "cell_type": "markdown",
   "id": "a0f5eb5a",
   "metadata": {},
   "source": [
    "## Ejercicio 5\n",
    "\n",
    "- Obtener una tabla informativa de una página a elección con Web Scrapping\n",
    "- Mostrar el Dataframe resultante por pantalla"
   ]
  },
  {
   "cell_type": "code",
   "execution_count": null,
   "id": "e11056ef",
   "metadata": {},
   "outputs": [],
   "source": []
  }
 ],
 "metadata": {
  "kernelspec": {
   "display_name": "Python 3",
   "language": "python",
   "name": "python3"
  },
  "language_info": {
   "codemirror_mode": {
    "name": "ipython",
    "version": 3
   },
   "file_extension": ".py",
   "mimetype": "text/x-python",
   "name": "python",
   "nbconvert_exporter": "python",
   "pygments_lexer": "ipython3",
   "version": "3.7.6"
  }
 },
 "nbformat": 4,
 "nbformat_minor": 5
}
