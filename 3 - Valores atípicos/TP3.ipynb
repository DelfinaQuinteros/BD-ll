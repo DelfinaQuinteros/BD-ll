{
 "cells": [
  {
   "cell_type": "markdown",
   "id": "9ca7bec5",
   "metadata": {},
   "source": [
    "# Proyecto análisis de conversación de mensajería"
   ]
  },
  {
   "cell_type": "markdown",
   "id": "8f5e96b0",
   "metadata": {},
   "source": [
    "## Cargar datos\n",
    "- Exportar una conversación personal o grupal de Whastapp o Telegram en un formato adecuado (JSON, CSV, etc), no exportar audios, archivos multimedia, etc\n",
    "- Importar archivo y convertirlo en dataframe"
   ]
  },
  {
   "cell_type": "code",
   "execution_count": null,
   "id": "8b138c17",
   "metadata": {},
   "outputs": [],
   "source": []
  },
  {
   "cell_type": "markdown",
   "id": "e6c038bb",
   "metadata": {},
   "source": [
    "## Conocer los datos\n",
    "\n",
    "- Observar que tipo de datos tiene el dataframe y que tipo de valores tiene\n",
    "- Explicar que significa cada campo y que tipo de acciones quedan registradas"
   ]
  },
  {
   "cell_type": "code",
   "execution_count": null,
   "id": "3ffcaa62",
   "metadata": {},
   "outputs": [],
   "source": []
  },
  {
   "cell_type": "markdown",
   "id": "4df74f9d",
   "metadata": {},
   "source": [
    "## Datos faltantes\n",
    "\n",
    "- Analizar de manera visual y no visual si existen datos faltantes"
   ]
  },
  {
   "cell_type": "code",
   "execution_count": null,
   "id": "abf7ce37",
   "metadata": {},
   "outputs": [],
   "source": []
  },
  {
   "cell_type": "markdown",
   "id": "414cc3eb",
   "metadata": {},
   "source": [
    "- Tratar datos faltantes en el caso que los haya\n",
    "- Explicar qué método se utilizó y por qué"
   ]
  },
  {
   "cell_type": "code",
   "execution_count": null,
   "id": "63f04ac8",
   "metadata": {},
   "outputs": [],
   "source": []
  },
  {
   "cell_type": "markdown",
   "id": "97e30f14",
   "metadata": {},
   "source": [
    "## Outliers\n",
    "\n",
    "- Analizar de manera visual y no visual si existen valores atípicos para cada valor no categórico"
   ]
  },
  {
   "cell_type": "code",
   "execution_count": null,
   "id": "4bfc4807",
   "metadata": {},
   "outputs": [],
   "source": []
  },
  {
   "cell_type": "markdown",
   "id": "83030ca0",
   "metadata": {},
   "source": [
    "- Si existen valores atípicos, ¿estos son causados por errores en la carga de datos o por otra razón?. Explicar la razón"
   ]
  },
  {
   "cell_type": "code",
   "execution_count": null,
   "id": "2ac0612f",
   "metadata": {},
   "outputs": [],
   "source": []
  }
 ],
 "metadata": {
  "kernelspec": {
   "display_name": "Python 3",
   "language": "python",
   "name": "python3"
  },
  "language_info": {
   "codemirror_mode": {
    "name": "ipython",
    "version": 3
   },
   "file_extension": ".py",
   "mimetype": "text/x-python",
   "name": "python",
   "nbconvert_exporter": "python",
   "pygments_lexer": "ipython3",
   "version": "3.7.6"
  }
 },
 "nbformat": 4,
 "nbformat_minor": 5
}
